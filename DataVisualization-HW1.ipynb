{
 "cells": [
  {
   "cell_type": "markdown",
   "id": "8b689e6b-c275-4123-b65e-40ac9259c9a7",
   "metadata": {},
   "source": [
    "# Assignment Description\n",
    "\r\n",
    "You, in your role as a data explorer and visualizer, have been asked by the administrators of a small amusement park in your hometown to answer a few questions about their park operations. The dataset that they provided for you to perform the requested analysis includes the movement and communication data captured from the park attendees' apps during one weekend (Friday, Saturday, and Sunday).\r\n",
    "The administrators would like you to answer three relatively simple questions about the park activities on the day in question. These questions all deal with park operations and can be answered using the data provided.\r\n"
   ]
  },
  {
   "cell_type": "markdown",
   "id": "57887a77-2667-433f-b08c-8792cf417a55",
   "metadata": {},
   "source": [
    "## The information contained in each of these tables of the database is listed below:\n",
    "**checkin**: - The check-in data for all visitors for the day in the park. The data includes two types of check-ins: inferred and actual checkins. \n",
    "- Fields: visitorID, timestamp, attraction, duration, type"
   ]
  },
  {
   "cell_type": "markdown",
   "id": "f5faa961-3fd2-4dad-a631-557a06f4969e",
   "metadata": {},
   "source": [
    "**attraction**: - The attractions in the park by their corresponding AttractionID, Name, Region, Category, and type. Regions are from the VAST Challenge map such as Coaster Alley, Tundra Land, etc. Categories include Thrill rides, Kiddie Rides, etc. Type is broken into Outdoor Coaster, Other Ride, Carousel, etc. \n",
    "- Fields: AttractionID, Name, Region, Category, type"
   ]
  },
  {
   "cell_type": "markdown",
   "id": "42330224-64ff-4247-ba27-2a84d323cfe6",
   "metadata": {},
   "source": [
    "**sequences**: - The check-in sequences of visitors. These sequences list the position of each visitor to the park every five minutes. If the visitor has not entered the part yet, the sequence has a value of 0 for that time interval. If the visitor is in the park, the sequence lists the attraction they have most recently checked in to until they check in to a new one or leave the park. \n",
    "- Fields: visitorID, sequence\n",
    "Using the provided data, answer the three questions that the administrators have asked."
   ]
  },
  {
   "cell_type": "code",
   "execution_count": 5,
   "id": "545e0a43-4ed9-4de0-b0a7-21008674a0eb",
   "metadata": {},
   "outputs": [],
   "source": [
    "import sqlite3\n",
    "import pandas as pd\n",
    "db_filename = \"dataset/dinofunworld.db\"\n",
    "connection = sqlite3.connect(db_filename)\n",
    "c = connection.cursor()"
   ]
  },
  {
   "cell_type": "markdown",
   "id": "c3c8926f-5981-4134-8626-24abe44f9fd1",
   "metadata": {},
   "source": [
    "## Question 1:\n",
    "\n",
    "What is the most popular attraction to visit in the park?\n",
    "\n",
    "Note: Your output should be the name of the attraction. Please print your output in the cell below.Add your import statements and the database connection statements in the below code block\n",
    "\n",
    "Database file path = '/course/data/CSE-578/dinofunworld.db'"
   ]
  },
  {
   "cell_type": "code",
   "execution_count": 7,
   "id": "378685ed-4e93-4d99-a88a-b6e9ef774f22",
   "metadata": {},
   "outputs": [
    {
     "name": "stdout",
     "output_type": "stream",
     "text": [
      "Atmosfear\n"
     ]
    }
   ],
   "source": [
    "query_1 = '''\n",
    "SELECT a.Name\n",
    "FROM checkin c\n",
    "JOIN attraction a ON c.attraction = a.AttractionID\n",
    "GROUP BY a.Name\n",
    "ORDER BY COUNT(*) DESC\n",
    "LIMIT 1\n",
    "'''\n",
    "\n",
    "c.execute(query_1)\n",
    "attraction = c.fetchone()\n",
    "print(attraction[0])"
   ]
  },
  {
   "cell_type": "markdown",
   "id": "b03d2e9d-8bde-4aa0-9d8f-4570678719f6",
   "metadata": {},
   "source": [
    "## Question 2:\r\n",
    "\r\n",
    "What ride (note that not all attractions are rides) has the second longest average visit time?\r\n",
    "\r\n",
    "Note: Your output should be the name of the ride. Please print your output in the cell below."
   ]
  },
  {
   "cell_type": "code",
   "execution_count": 9,
   "id": "065ecd4b-4312-42be-82ce-79472e62220b",
   "metadata": {},
   "outputs": [
    {
     "name": "stdout",
     "output_type": "stream",
     "text": [
      "Flight of the Swingodon\n"
     ]
    }
   ],
   "source": [
    "query_2 = '''\n",
    "SELECT a.Name, AVG(c.duration) as avg_duration\n",
    "FROM checkin c\n",
    "JOIN attraction a ON c.attraction = a.AttractionID\n",
    "WHERE a.Category LIKE '%Ride%'\n",
    "GROUP BY a.Name\n",
    "ORDER BY avg_duration DESC\n",
    "LIMIT 2\n",
    "'''\n",
    "\n",
    "c.execute(query_2)\n",
    "second_ride = c.fetchall()\n",
    "x = second_ride[0]\n",
    "x = x[0]\n",
    "print(x)"
   ]
  },
  {
   "cell_type": "markdown",
   "id": "d7c5f798-81b9-40b8-928a-b3e93578d470",
   "metadata": {},
   "source": [
    "## Question 3:\r\n",
    "\r\n",
    "Which Fast Food offering in the park has the fewest visitors?\r\n",
    "\r\n",
    "Note: Your output should be the name of the fast food offering. Please print your output in the cell below."
   ]
  },
  {
   "cell_type": "code",
   "execution_count": 11,
   "id": "404e64a0-107e-410c-bd50-ff71fa51382a",
   "metadata": {},
   "outputs": [
    {
     "name": "stdout",
     "output_type": "stream",
     "text": [
      "Theresaur Food Stop\n"
     ]
    }
   ],
   "source": [
    "checkin_df = pd.read_sql_query(\"SELECT * FROM checkin\", connection)\n",
    "attraction_df = pd.read_sql_query(\"SELECT * FROM attraction WHERE type LIKE '%Fast Food%'\", connection)\n",
    "merge_df = checkin_df[['visitorID','attraction']].merge(attraction_df[['Name','AttractionID']],left_on=['attraction'],right_on=['AttractionID'])\n",
    "final_df = merge_df.groupby(['Name']).size().reset_index(name='counts')\n",
    "fast_food_with_fewest_visitors = final_df.iloc[final_df.counts.argmin()]['Name']\n",
    "print(fast_food_with_fewest_visitors)"
   ]
  }
 ],
 "metadata": {
  "kernelspec": {
   "display_name": "Python 3 (ipykernel)",
   "language": "python",
   "name": "python3"
  },
  "language_info": {
   "codemirror_mode": {
    "name": "ipython",
    "version": 3
   },
   "file_extension": ".py",
   "mimetype": "text/x-python",
   "name": "python",
   "nbconvert_exporter": "python",
   "pygments_lexer": "ipython3",
   "version": "3.12.4"
  }
 },
 "nbformat": 4,
 "nbformat_minor": 5
}
